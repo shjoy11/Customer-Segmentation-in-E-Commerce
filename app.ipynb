# Streamlit 

import streamlit as st
import pandas as pd
import plotly.express as px
import numpy as np
import joblib
import os
import matplotlib.pyplot as plt
from sklearn.cluster import KMeans
from sklearn.preprocessing import StandardScaler

# === Configuration ===
st.set_page_config(page_title="360° AI Customer Dashboard", layout="wide")

# === Admin Login ===
if "authenticated" not in st.session_state:
    st.session_state["authenticated"] = False

if not st.session_state.authenticated:
    st.title("🔐 Admin Login")
    username = st.text_input("Username")
    password = st.text_input("Password", type="password")
    if st.button("Login"):
        if username == "admin" and password == "pass123":
            st.session_state.authenticated = True
            st.rerun()
        else:
            st.error("Invalid credentials.")
    st.stop()

# === Model Loader ===
@st.cache_resource
def load_model(path):
    try:
        return joblib.load(path)
    except FileNotFoundError:
        st.warning(f"⚠️ Model not found at: {path}")
        return None

# === Load Dataset ===
@st.cache_data
def load_default_data():
    return pd.read_csv("rfm_final_with_predictions.csv")

# === Preprocess and Segment ===
def preprocess_and_segment(df):
    df = df.drop_duplicates().dropna()
    df.columns = df.columns.str.strip().str.replace(" ", "_").str.lower()

    try:
        model = joblib.load("models/Segment/segment_model_xgboost_tuned.pkl")

        if hasattr(model, "feature_names_in_"):
            required = model.feature_names_in_
        else:
            required = [
                'Recency', 'Frequency', 'Monetary', 'AOV',
                'AvgBasketSize', 'AvgOrderValue',
                'WeekendPurchaseRatio', 'AvgDaysBetweenOrders'
            ]

        required_clean = [f.lower().replace(" ", "_") for f in required]
        matched = [f for f in required_clean if f in df.columns]

        if len(matched) < 3:
            st.warning("Not enough matching features for segmentation. Skipping prediction.")
            return df

        df['segment_pred'] = model.predict(df[matched])
        segment_map = {0: "Window Shopper", 1: "Bargain Hunter", 2: "Loyalist", 3: "VIP"}
        df['segment_label'] = df['segment_pred'].map(segment_map)
        st.success("✅ Segmentation completed.")
    except Exception as e:
        st.warning(f"Segmentation failed: {e}")

    return df

# === Load Uploaded or Default Data ===
st.sidebar.header("📁 Upload Data")
uploaded_file = st.sidebar.file_uploader("Upload your CSV file", type=["csv"])

if uploaded_file:
    data = pd.read_csv(uploaded_file)
    data = preprocess_and_segment(data)
    st.sidebar.success("✅ File uploaded successfully")
else:
    data = load_default_data()
    st.sidebar.info("Using default dataset")

# === Segment Mapping for older datasets ===
segment_name_map = {0: "Window Shopper", 1: "Bargain Hunter", 2: "Loyalist", 3: "VIP"}
if 'Segment_Pred' in data.columns:
    data['Segment_Label'] = data['Segment_Pred'].map(segment_name_map)

# === Sidebar Filters ===
st.sidebar.header("🔍 Filter Customers")
filterable_cols = [col for col in data.columns if data[col].nunique() < 25 and data[col].dtype in ["int64", "object"]]
for col in filterable_cols:
    unique_vals = data[col].dropna().unique().tolist()
    selected = st.sidebar.multiselect(f"{col}", unique_vals, default=unique_vals)
    data = data[data[col].isin(selected)]

# === Dashboard Tabs ===
tabs = st.tabs(["📋 Overview", "🧠 Predictions", "📈 Visuals", "📌 Segment Insights"])

# === Tab 1: Overview ===
with tabs[0]:
    st.title("📊 Customer Overview")
    k1, k2, k3 = st.columns(3)
    k1.metric("Total Customers", f"{len(data):,}")
    if 'Churn_Pred' in data.columns:
        k2.metric("Avg Churn Probability", f"{data['Churn_Pred'].mean():.2f}")
    if 'CLV' in data.columns:
        k3.metric("Avg CLV", f"${data['CLV'].mean():,.2f}")

    preview_cols = ['CustomerID', 'CLV', 'Churn_Pred', 'Segment_Label']
    preview_cols = [col for col in preview_cols if col in data.columns]
    st.dataframe(data[preview_cols].head(10))

# === Tab 2: Predictions ===
with tabs[1]:
    st.subheader("🔎 Customer Lookup")
    lookup = st.text_input("Enter Customer ID")
    if lookup:
        if 'CustomerID' in data.columns:
            match = data[data['CustomerID'].astype(str) == lookup]
            if not match.empty:
                st.dataframe(match.T)
                churn = match.iloc[0].get('Churn_Pred')
                clv = match.iloc[0].get('CLV')
                seg = match.iloc[0].get('Segment_Label', 'Unknown')
                st.info(f"🧠 Segment: {seg}")
                if churn is not None and churn > 0.8:
                    st.warning("⚠️ High Churn Risk")
                elif clv is not None and clv > 200:
                    st.success("💎 VIP Customer")
                else:
                    st.success("🙂 Low Risk")
            else:
                st.error("Customer ID not found.")
        else:
            st.warning("CustomerID column not found.")

# === Tab 3: Visuals ===
with tabs[2]:
    st.subheader("📈 Visual Analytics")
    c1, c2 = st.columns(2)

    if 'CLV' in data.columns:
        fig = px.histogram(data, x='CLV', nbins=50, title="CLV Distribution")
        c1.plotly_chart(fig, use_container_width=True)

    if 'Churn_Pred' in data.columns:
        fig = px.histogram(data, x='Churn_Pred', nbins=50, title="Churn Probability Distribution")
        c2.plotly_chart(fig, use_container_width=True)

    if 'Segment_Label' in data.columns and 'CLV' in data.columns:
        fig = px.box(data, x='Segment_Label', y='CLV', color='Segment_Label', title="CLV by Segment")
        st.plotly_chart(fig, use_container_width=True)

    if 'Segment_Label' in data.columns and 'Churn_Pred' in data.columns:
        fig = px.box(data, x='Segment_Label', y='Churn_Pred', color='Segment_Label', title="Churn Risk by Segment")
        st.plotly_chart(fig, use_container_width=True)

    st.subheader("📊 Correlation Matrix")
    numeric_cols = data.select_dtypes(include=np.number)
    if not numeric_cols.empty:
        fig = px.imshow(numeric_cols.corr(), text_auto=True, title="Feature Correlation Heatmap")
        st.plotly_chart(fig, use_container_width=True)

    st.subheader("📍 Elbow Method for KMeans")
    if {'recency', 'frequency', 'monetary'}.issubset(data.columns):
        scaled = StandardScaler().fit_transform(data[['recency', 'frequency', 'monetary']])
        distortions = [KMeans(n_clusters=k, random_state=42).fit(scaled).inertia_ for k in range(1, 10)]
        fig, ax = plt.subplots()
        ax.plot(range(1, 10), distortions, 'bo-')
        ax.set_xlabel('Clusters')
        ax.set_ylabel('Inertia')
        ax.set_title('Elbow Method')
        st.pyplot(fig)

# === Tab 4: Segment Insights ===
with tabs[3]:
    st.subheader("📌 Segment Insights")
    if 'Segment_Label' in data.columns:
        for seg in sorted(data['Segment_Label'].unique()):
            st.markdown(f"### 🎯 {seg}")
            if "vip" in str(seg).lower():
                st.markdown("- Offer exclusive perks and early access.")
            elif "window" in str(seg).lower():
                st.markdown("- Retarget via emails and personalized ads.")
            elif "bargain" in str(seg).lower():
                st.markdown("- Focus on price-sensitive deals.")
            elif "loyal" in str(seg).lower():
                st.markdown("- Encourage referrals and loyalty points.")
            subset = data[data['Segment_Label'] == seg]
            view_cols = [c for c in ['CustomerID', 'CLV', 'Churn_Pred'] if c in subset.columns]
            st.write(f"Total: {len(subset)}")
            st.dataframe(subset[view_cols].head(5))

# === Export Buttons ===
st.markdown("---")
st.subheader("📤 Export Segments")
vip = data[data['Segment_Label'] == 'VIP'] if 'Segment_Label' in data.columns else pd.DataFrame()
churned = data[data['Churn_Pred'] > 0.7] if 'Churn_Pred' in data.columns else pd.DataFrame()
col1, col2 = st.columns(2)
if not vip.empty:
    col1.download_button("📥 Download VIPs", vip.to_csv(index=False), "vip_customers.csv")
if not churned.empty:
    col2.download_button("📥 Download High-Risk", churned.to_csv(index=False), "high_risk_customers.csv")

# === Final Table ===
st.subheader("📋 Full Customer Table")
st.dataframe(data.reset_index(drop=True))
